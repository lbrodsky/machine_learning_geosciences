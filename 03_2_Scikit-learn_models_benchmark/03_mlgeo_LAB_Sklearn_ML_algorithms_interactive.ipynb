{
 "cells": [
  {
   "cell_type": "markdown",
   "metadata": {},
   "source": [
    "___\n",
    "\n",
    "# Machine Learning in Geosciences ] \n",
    "Department of Applied Geoinformatics and Carthography, Charles University\n",
    "\n",
    "Lukas Brodsky lukas.brodsky@natur.cuni.cz\n"
   ]
  },
  {
   "cell_type": "markdown",
   "metadata": {},
   "source": [
    "# Interacxtive Exploration of the Fundamental ML Algorithms with Scikit-learn"
   ]
  },
  {
   "cell_type": "markdown",
   "metadata": {},
   "source": [
    "This code lets you select the dataset simulation method, change the number of samples and noise level, choose a model, and adjust its hyperparameters. The plot title updates to show both the model type and its hyperparameter values.\n",
    "\n",
    "* k-Nearest Neighbors (KNN)\n",
    "\n",
    "* Decision Trees\n",
    "\n",
    "* Support Vector Machines (SVM)\n",
    "\n",
    "* Artificial Neural Networks (ANN) \n"
   ]
  },
  {
   "cell_type": "markdown",
   "metadata": {},
   "source": [
    "#### KNN \n",
    "* `n_neighbors` int, default=5 \n",
    "\n",
    "#### Decition Tree Classifier \n",
    "* `max_depth` int, default=None\n",
    "\n",
    "#### SVC\n",
    "* `C` float, default=1.0 (Regularization parameter. The strength of the regularization is inversely proportional to C.)\n",
    "* `gamma`{‘scale’, ‘auto’} or float, default=’scale’ Kernel coefficient for ‘rbf’, ‘poly’ and ‘sigmoid’.\n",
    "\n",
    "#### MLPClassifier\n",
    "* `hidden_layer_sizes` array-like of shape(n_layers - 2,), default=(100,) The ith element represents the number "
   ]
  },
  {
   "cell_type": "code",
   "execution_count": 62,
   "metadata": {},
   "outputs": [],
   "source": [
    "import numpy as np\n",
    "import matplotlib.pyplot as plt\n",
    "\n",
    "from sklearn.tree import DecisionTreeClassifier\n",
    "from sklearn.svm import SVC\n",
    "from sklearn.neighbors import KNeighborsClassifier\n",
    "from sklearn.neural_network import MLPClassifier\n",
    "\n",
    "from sklearn.datasets import make_moons, make_classification, make_circles\n",
    "from sklearn.model_selection import train_test_split\n",
    "from sklearn.preprocessing import StandardScaler\n",
    "\n",
    "import ipywidgets as widgets\n",
    "from IPython.display import display"
   ]
  },
  {
   "cell_type": "markdown",
   "metadata": {},
   "source": [
    "### Update plot while generating synthetic data and fitting the model"
   ]
  },
  {
   "cell_type": "code",
   "execution_count": 63,
   "metadata": {},
   "outputs": [],
   "source": [
    "# Function to generate dataset and train model\n",
    "def update_plot(n_samples, noise, dataset_type, model_type, dt_max_depth, svm_C, svm_gamma, knn_neighbors, ann_depth):\n",
    "    # Generate dataset based on the selected simulation method\n",
    "    if dataset_type == 'make_classification':\n",
    "        X, y = make_classification(n_samples=n_samples, n_features=2, n_redundant=0,\n",
    "                                   n_informative=2, n_clusters_per_class=1, flip_y=noise, random_state=42)\n",
    "    elif dataset_type == 'make_moons':\n",
    "        X, y = make_moons(n_samples=n_samples, noise=noise, random_state=42)\n",
    "    elif dataset_type == 'make_circles':\n",
    "        X, y = make_circles(n_samples=n_samples, noise=noise, factor=0.5, random_state=42)\n",
    "    \n",
    "    X_train, X_test, y_train, y_test = train_test_split(X, y, test_size=0.3, random_state=42)\n",
    "    \n",
    "    scaler = StandardScaler()\n",
    "    X_train = scaler.fit_transform(X_train)\n",
    "    X_test = scaler.transform(X_test)\n",
    "    \n",
    "    # Choose and configure model based on selection and hyperparameters\n",
    "    if model_type == 'Decision Tree':\n",
    "        hyper_info = f\"max_depth = {dt_max_depth}\"\n",
    "        model = DecisionTreeClassifier(max_depth=dt_max_depth, random_state=42)\n",
    "    elif model_type == 'SVM':\n",
    "        hyper_info = f\"C = {svm_C}, gamma = {svm_gamma}\"\n",
    "        model = SVC(kernel='rbf', C=svm_C, gamma=svm_gamma, random_state=42)\n",
    "    elif model_type == 'KNN':\n",
    "        hyper_info = f\"n_neighbors = {knn_neighbors}\"\n",
    "        model = KNeighborsClassifier(n_neighbors=knn_neighbors)\n",
    "    elif model_type == 'ANN':\n",
    "        hyper_info = f\"depth of layers = {ann_depth}\"\n",
    "        model = MLPClassifier(hidden_layer_sizes=(50,)*ann_depth,\n",
    "                              activation='relu', solver='adam', max_iter=1000, random_state=42)\n",
    "    \n",
    "    model.fit(X_train, y_train)\n",
    "    plot_decision_boundary(model, X_train, y_train, model_type, hyper_info)"
   ]
  },
  {
   "cell_type": "markdown",
   "metadata": {},
   "source": [
    "### Plot decision boundary"
   ]
  },
  {
   "cell_type": "code",
   "execution_count": 64,
   "metadata": {},
   "outputs": [],
   "source": [
    "# Function to plot decision boundary\n",
    "def plot_decision_boundary(model, X, y, model_type, hyper_info):\n",
    "    x_min, x_max = X[:, 0].min() - 0.5, X[:, 0].max() + 0.5\n",
    "    y_min, y_max = X[:, 1].min() - 0.5, X[:, 1].max() + 0.5\n",
    "    xx, yy = np.meshgrid(np.linspace(x_min, x_max, 200),\n",
    "                         np.linspace(y_min, y_max, 200))\n",
    "    \n",
    "    Z = model.predict(np.c_[xx.ravel(), yy.ravel()])\n",
    "    Z = Z.reshape(xx.shape)\n",
    "    \n",
    "    plt.figure(figsize=(6, 4))\n",
    "    plt.contourf(xx, yy, Z, alpha=0.3)\n",
    "    plt.scatter(X[:, 0], X[:, 1], c=y, edgecolor='k', cmap=plt.cm.bwr)\n",
    "    plt.xlabel(\"Feature 1\")\n",
    "    plt.ylabel(\"Feature 2\")\n",
    "    plt.title(f\"{model_type} Classification Boundary ({hyper_info})\")\n",
    "    plt.show()"
   ]
  },
  {
   "cell_type": "code",
   "execution_count": 65,
   "metadata": {},
   "outputs": [],
   "source": [
    "# Create interactive widgets for dataset simulation and model hyperparameters\n",
    "dataset_selector = widgets.Dropdown(options=['make_classification', 'make_moons', 'make_circles'], \n",
    "                                    value='make_moons', description='Dataset')\n",
    "n_samples_slider = widgets.IntSlider(min=50, max=500, step=10, value=200, description='n_samples')\n",
    "noise_slider = widgets.FloatSlider(min=0.0, max=0.5, step=0.05, value=0.2, description='noise')\n",
    "model_selector = widgets.Dropdown(options=['Decision Tree', 'SVM', 'KNN', 'ANN'], \n",
    "                                  value='Decision Tree', description='Model')"
   ]
  },
  {
   "cell_type": "code",
   "execution_count": 66,
   "metadata": {},
   "outputs": [],
   "source": [
    "# Hyperparameter widgets with names adjusted according to the model\n",
    "dt_max_depth_slider = widgets.IntSlider(min=1, max=10, step=1, value=4, description='max_depth')\n",
    "svm_C_slider = widgets.FloatSlider(min=0.1, max=10.0, step=0.1, value=1.0, description='C')\n",
    "svm_gamma_slider = widgets.FloatSlider(min=0.001, max=1.0, step=0.001, value=0.01, description='gamma')\n",
    "knn_neighbors_slider = widgets.IntSlider(min=1, max=20, step=1, value=5, description='n_neighbors')\n",
    "ann_depth_slider = widgets.IntSlider(min=1, max=10, step=1, value=2, description='depth of layers')"
   ]
  },
  {
   "cell_type": "code",
   "execution_count": 67,
   "metadata": {},
   "outputs": [],
   "source": [
    "# Arrange all widgets in a vertical box\n",
    "ui = widgets.VBox([\n",
    "    dataset_selector, n_samples_slider, noise_slider, model_selector,\n",
    "    dt_max_depth_slider, svm_C_slider, svm_gamma_slider,\n",
    "    knn_neighbors_slider, ann_depth_slider\n",
    "])"
   ]
  },
  {
   "cell_type": "code",
   "execution_count": 69,
   "metadata": {},
   "outputs": [
    {
     "data": {
      "application/vnd.jupyter.widget-view+json": {
       "model_id": "1b207732a2bd4b7b8c7e193bc82ccefc",
       "version_major": 2,
       "version_minor": 0
      },
      "text/plain": [
       "VBox(children=(Dropdown(description='Dataset', index=2, options=('make_classification', 'make_moons', 'make_ci…"
      ]
     },
     "metadata": {},
     "output_type": "display_data"
    },
    {
     "data": {
      "application/vnd.jupyter.widget-view+json": {
       "model_id": "7cfc91ff3e814f71aa7a5a2a81178e8f",
       "version_major": 2,
       "version_minor": 0
      },
      "text/plain": [
       "Output()"
      ]
     },
     "metadata": {},
     "output_type": "display_data"
    }
   ],
   "source": [
    "# Link the widgets to the update_plot function using interactive_output\n",
    "out = widgets.interactive_output(update_plot, {\n",
    "    'n_samples': n_samples_slider,\n",
    "    'noise': noise_slider,\n",
    "    'dataset_type': dataset_selector,\n",
    "    'model_type': model_selector,\n",
    "    'dt_max_depth': dt_max_depth_slider,\n",
    "    'svm_C': svm_C_slider,\n",
    "    'svm_gamma': svm_gamma_slider,\n",
    "    'knn_neighbors': knn_neighbors_slider,\n",
    "    'ann_depth': ann_depth_slider\n",
    "})\n",
    "\n",
    "display(ui, out)"
   ]
  },
  {
   "cell_type": "code",
   "execution_count": 32,
   "metadata": {},
   "outputs": [],
   "source": [
    "# Create interactive plot\n",
    "# interactive_plot = widgets.interactive(update_plot, n_samples=n_samples_slider, noise=noise_slider, max_depth=max_depth_slider, model_type=model_selector)\n",
    "\n",
    "# Display widgets and plot\n",
    "# display(n_samples_slider, noise_slider, max_depth_slider, model_selector, interactive_plot)"
   ]
  },
  {
   "cell_type": "code",
   "execution_count": null,
   "metadata": {},
   "outputs": [],
   "source": []
  }
 ],
 "metadata": {
  "kernelspec": {
   "display_name": "Python 3 (ipykernel)",
   "language": "python",
   "name": "python3"
  },
  "language_info": {
   "codemirror_mode": {
    "name": "ipython",
    "version": 3
   },
   "file_extension": ".py",
   "mimetype": "text/x-python",
   "name": "python",
   "nbconvert_exporter": "python",
   "pygments_lexer": "ipython3",
   "version": "3.9.10"
  },
  "nav_menu": {
   "height": "252px",
   "width": "333px"
  },
  "toc": {
   "navigate_menu": true,
   "number_sections": true,
   "sideBar": true,
   "threshold": 6,
   "toc_cell": false,
   "toc_section_display": "block",
   "toc_window_display": false
  }
 },
 "nbformat": 4,
 "nbformat_minor": 1
}
