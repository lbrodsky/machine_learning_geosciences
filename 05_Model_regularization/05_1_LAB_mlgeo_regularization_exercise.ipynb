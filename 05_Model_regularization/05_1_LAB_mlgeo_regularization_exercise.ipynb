{
 "cells": [
  {
   "cell_type": "markdown",
   "id": "ce46d6f0",
   "metadata": {},
   "source": [
    "# ___\n",
    "\n",
    "# [ Machine Learning in Geosciences ]\n",
    "\n",
    "**Department of Applied Geoinformatics and Carthography, Charles University** \n",
    "\n",
    "*Lukas Brodsky lukas.brodsky@natur.cuni.cz*\n"
   ]
  },
  {
   "cell_type": "markdown",
   "id": "0a814cee",
   "metadata": {},
   "source": [
    "### Exercise: Varying regularization in Multi-layer Perceptron\n",
    "\n",
    "**Goal**: find \"optimal\" (suitable) regularization parameter ‘alpha’ on synthetic datasets. Compare training and testing accuracy. \n",
    "\n",
    "Alpha is a parameter for regularization term, aka penalty term, that combats overfitting by constraining the size of the weights. Increasing alpha may fix high variance (a sign of overfitting) by encouraging smaller weights, resulting in a decision boundary plot that appears with lesser curvatures. Similarly, decreasing alpha may fix high bias (a sign of underfitting) by encouraging larger weights, potentially resulting in a more complicated decision boundary.\n",
    "\n",
    "Tasks:\n",
    "1. Find optimal alpha - ANN model with varying alpha\n",
    "2. Change data sets to see effect of alpa on different data complexity\n",
    "    * make_moons data set (1)\n",
    "    * make_circles data set (2)\n",
    "    * and linearly_separable data set (3)\n",
    "\n",
    "Report: \n",
    "on the effects of alpha for each the datasets. "
   ]
  },
  {
   "cell_type": "code",
   "execution_count": null,
   "id": "409d1f84",
   "metadata": {},
   "outputs": [],
   "source": [
    "import numpy as np\n",
    "from matplotlib import pyplot as plt\n",
    "from matplotlib.colors import ListedColormap\n",
    "\n",
    "from sklearn.datasets import make_circles, make_classification, make_moons\n",
    "from sklearn.model_selection import train_test_split\n",
    "from sklearn.neural_network import MLPClassifier\n",
    "from sklearn.pipeline import make_pipeline\n",
    "from sklearn.preprocessing import StandardScaler"
   ]
  },
  {
   "cell_type": "code",
   "execution_count": null,
   "id": "66adf535",
   "metadata": {},
   "outputs": [],
   "source": [
    "# Data\n",
    "X, y = make_classification(\n",
    "    n_features=2, n_redundant=0, n_informative=2, random_state=0, n_clusters_per_class=1\n",
    ")\n",
    "rng = np.random.RandomState(2)\n",
    "X += 2 * rng.uniform(size=X.shape)\n",
    "linearly_separable = (X, y)\n",
    "\n",
    "datasets = [\n",
    "    make_moons(noise=0.3, random_state=0),\n",
    "    make_circles(noise=0.2, factor=0.5, random_state=1),\n",
    "    linearly_separable,\n",
    "]"
   ]
  },
  {
   "cell_type": "code",
   "execution_count": null,
   "id": "b38a5118",
   "metadata": {},
   "outputs": [],
   "source": [
    "# Select dataset \n",
    "X, y = datasets[0]"
   ]
  },
  {
   "cell_type": "code",
   "execution_count": null,
   "id": "99836b0f",
   "metadata": {},
   "outputs": [],
   "source": [
    "# Data preparation - split into training and test part\n",
    "X_train, X_test, y_train, y_test = train_test_split(\n",
    "        X, y, test_size=0.4, random_state=42\n",
    "    )"
   ]
  },
  {
   "cell_type": "code",
   "execution_count": null,
   "id": "bcea105d",
   "metadata": {
    "scrolled": false
   },
   "outputs": [],
   "source": [
    "# Plot\n",
    "cm = plt.cm.RdBu\n",
    "cm_bright = ListedColormap([\"#FF0000\", \"#0000FF\"])\n",
    "\n",
    "# Grid\n",
    "h = 0.02  # step size in the mesh\n",
    "x_min, x_max = X[:, 0].min() - 0.5, X[:, 0].max() + 0.5\n",
    "y_min, y_max = X[:, 1].min() - 0.5, X[:, 1].max() + 0.5\n",
    "xx, yy = np.meshgrid(np.arange(x_min, x_max, h), np.arange(y_min, y_max, h))\n",
    "\n",
    "ax = plt.subplot()\n",
    "# Plot the training points\n",
    "ax.scatter(X_train[:, 0], X_train[:, 1], c=y_train, cmap=cm_bright)\n",
    "# and testing points\n",
    "ax.scatter(X_test[:, 0], X_test[:, 1], c=y_test, cmap=cm_bright, alpha=0.6)\n",
    "ax.set_xlim(xx.min(), xx.max())\n",
    "ax.set_ylim(yy.min(), yy.max())\n",
    "ax.set_xticks(())\n",
    "ax.set_yticks(())"
   ]
  },
  {
   "cell_type": "markdown",
   "id": "7afb9050",
   "metadata": {},
   "source": [
    "### Classifier"
   ]
  },
  {
   "cell_type": "code",
   "execution_count": null,
   "id": "49e35b80",
   "metadata": {},
   "outputs": [],
   "source": [
    "# Change alpha in range of values [0.1, 0.3, 1.0, 3.0, 10.0] \n",
    "alpha = 0.1"
   ]
  },
  {
   "cell_type": "code",
   "execution_count": null,
   "id": "f652e3ca",
   "metadata": {},
   "outputs": [],
   "source": [
    "# Model\n",
    "clf = MLPClassifier(\n",
    "                solver=\"lbfgs\",\n",
    "                alpha=alpha,\n",
    "                random_state=1,\n",
    "                max_iter=2000,\n",
    "                early_stopping=True,\n",
    "                hidden_layer_sizes=[10, 10],\n",
    "            )"
   ]
  },
  {
   "cell_type": "code",
   "execution_count": null,
   "id": "179a3ec8",
   "metadata": {
    "scrolled": true
   },
   "outputs": [],
   "source": [
    "clf.fit(X_train, y_train)"
   ]
  },
  {
   "cell_type": "code",
   "execution_count": null,
   "id": "3513cbb2",
   "metadata": {},
   "outputs": [],
   "source": [
    "# Compare training and testing accuracy\n",
    "# score = clf.score(X_test, y_test)\n",
    "\n",
    "pass "
   ]
  },
  {
   "cell_type": "markdown",
   "id": "332a8c17",
   "metadata": {},
   "source": [
    "### Plot the decition boundary, report on training and testing accuracy"
   ]
  },
  {
   "cell_type": "code",
   "execution_count": null,
   "id": "9dccb726",
   "metadata": {},
   "outputs": [],
   "source": [
    "# Plot \n",
    "ax = plt.subplot()\n",
    "# plot the training points\n",
    "ax.scatter(X_train[:, 0], X_train[:, 1], c=y_train, cmap=cm_bright)\n",
    "# and testing points\n",
    "ax.scatter(X_test[:, 0], X_test[:, 1], c=y_test, cmap=cm_bright, alpha=0.6, edgecolors=\"black\",s=35)\n",
    "ax.set_xlim(xx.min(), xx.max())\n",
    "ax.set_ylim(yy.min(), yy.max())\n",
    "ax.set_xticks(())\n",
    "ax.set_yticks(())\n",
    "\n",
    "# Plot the decision boundary. \n",
    "if hasattr(clf, \"decision_function\"):\n",
    "    Z = clf.decision_function(np.column_stack([xx.ravel(), yy.ravel()]))\n",
    "else:\n",
    "    Z = clf.predict_proba(np.column_stack([xx.ravel(), yy.ravel()]))[:, 1]\n",
    "\n",
    "# Put the result into a color plot\n",
    "Z = Z.reshape(xx.shape)\n",
    "ax.contourf(xx, yy, Z, cmap=cm, alpha=0.5)"
   ]
  },
  {
   "cell_type": "code",
   "execution_count": null,
   "id": "4fc605ba",
   "metadata": {},
   "outputs": [],
   "source": [
    "# Task 1:\n",
    "# Change alpha in range of values [0.1, 0.3, 1.0, 3.0, 10.0] and plot the effect \n",
    "pass "
   ]
  },
  {
   "cell_type": "code",
   "execution_count": null,
   "id": "29e0bfde",
   "metadata": {},
   "outputs": [],
   "source": [
    "# Compare training and testing accuracy\n",
    "pass "
   ]
  },
  {
   "cell_type": "code",
   "execution_count": null,
   "id": "825b1a35",
   "metadata": {},
   "outputs": [],
   "source": []
  },
  {
   "cell_type": "code",
   "execution_count": null,
   "id": "b5ad084f",
   "metadata": {},
   "outputs": [],
   "source": [
    "# Task 2: \n",
    "# Change the datasets and alpha \n",
    "X, y = datasets[0]\n",
    "pass "
   ]
  },
  {
   "cell_type": "code",
   "execution_count": null,
   "id": "36fcc047",
   "metadata": {},
   "outputs": [],
   "source": [
    "# Compare training and testing accuracy\n",
    "pass "
   ]
  },
  {
   "cell_type": "code",
   "execution_count": null,
   "id": "61311942",
   "metadata": {},
   "outputs": [],
   "source": [
    "# Plot the results "
   ]
  }
 ],
 "metadata": {
  "kernelspec": {
   "display_name": "Python 3 (ipykernel)",
   "language": "python",
   "name": "python3"
  },
  "language_info": {
   "codemirror_mode": {
    "name": "ipython",
    "version": 3
   },
   "file_extension": ".py",
   "mimetype": "text/x-python",
   "name": "python",
   "nbconvert_exporter": "python",
   "pygments_lexer": "ipython3",
   "version": "3.9.10"
  }
 },
 "nbformat": 4,
 "nbformat_minor": 5
}
