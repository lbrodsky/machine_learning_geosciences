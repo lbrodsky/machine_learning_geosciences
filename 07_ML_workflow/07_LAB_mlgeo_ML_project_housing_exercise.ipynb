{
 "cells": [
  {
   "cell_type": "markdown",
   "metadata": {},
   "source": [
    "# ___\n",
    "\n",
    "# [ Machine Learning in Geosciences ]\n",
    "\n",
    "**Department of Applied Geoinformatics and Carthography, Charles University** \n",
    "\n",
    "*Lukas Brodsky lukas.brodsky@natur.cuni.cz*\n",
    "\n",
    "    \n",
    "___\n",
    "\n"
   ]
  },
  {
   "cell_type": "markdown",
   "metadata": {},
   "source": [
    "# Exercise: End-to-End Machine Learning Project!\n",
    "\n",
    "Develop the following steps for the given data set and described problem. \n",
    "\n",
    "1. Task description \n",
    "2. Exploratory Data Analysis\n",
    "3. Data preparation \n",
    "4. Select and train model \n",
    "5. Model fine-tuning \n",
    "6. Results interpretation\n",
    "\n",
    "___    "
   ]
  },
  {
   "cell_type": "markdown",
   "metadata": {},
   "source": [
    "# 1. Task description - the Problem "
   ]
  },
  {
   "cell_type": "markdown",
   "metadata": {},
   "source": [
    "**Problem Statement** \n",
    "The goal is to develop a predictive model for housing prices in California using census data. The model should accurately estimate the median housing price for any given district based on relevant socioeconomic and geographical factors.\n",
    "\n",
    "**Objective:**\n",
    "The primary objective is to build a machine learning model that can generalize well across different regions in California. The model should leverage available census data to capture key patterns influencing housing prices, such as location, population density, income levels, and housing characteristics.\n",
    "\n",
    "**Assumptions of the problem:** \n",
    "* There exist some (most likely non-linear) relationship between input features (X) and the output target  variable (y); \n",
    "* the output target is a continuous variable, hence we employ regression type of model; \n",
    "* There are multiple features, hence multivariate regression; \n",
    "* There is no continuous flow of data -> batch learning;\n",
    "\n",
    "\n",
    "**The expected result:** \n",
    "The developed model shall predict housing prices based set of characteristics (fetures) with error < 20 %. \n",
    "\n",
    "\n",
    "**Data Description**\n",
    "The dataset consists of housing-related and demographic attributes for various districts in California, as recorded in the U.S. census. Key features include:\n",
    "\n",
    "- Median income of district residents\n",
    "- Household population and housing unit counts\n",
    "- Geographical coordinates (latitude, longitude)\n",
    "- Proximity to the ocean (e.g., inland vs. coastal regions)\n",
    "- Median house age and total rooms/bedrooms per household\n",
    "- Median house value (target variable)\n",
    "\n",
    "**Challenges:**\n",
    "- Feature Engineering: Handling missing values, categorical encoding (e.g., proximity to ocean), and outlier detection.\n",
    "- Non-linearity & Feature Interactions: The relationship between predictors and housing prices may be complex and require non-linear modeling approaches.\n",
    "- Geospatial Variability: Housing prices vary significantly based on location, requiring spatial awareness in the model.\n",
    "- Data Imbalance: Certain high-value or low-value districts may be underrepresented, leading to biased predictions.\n",
    "- Generalization: Ensuring the model performs well on new, unseen districts rather than overfitting to training data.\n",
    "\n",
    "**Strengths:**\n",
    "- Rich Dataset: The dataset contains diverse attributes that provide valuable insights into housing price drivers.\n",
    "- Geospatial Information: Latitude and longitude enable the inclusion of spatial dependencies.\n",
    "- Potential for Feature Engineering: Additional features like population density or room-to-household ratios can improve predictive performance.\n",
    "\n",
    "**Performance Measures:** \n",
    "- **Mean Absolute Error (MAE)**: Measures the average absolute difference between actual and predicted prices, providing an intuitive interpretation.\n",
    "- Root Mean Squared Error (RMSE): Penalizes larger errors more than MAE, useful for emphasizing significant prediction mistakes.\n",
    "- R² Score (Coefficient of Determination): Evaluates how well the model explains the variance in housing prices.\n",
    "- Mean Absolute Percentage Error (MAPE): Expresses prediction error as a percentage, making it useful for relative performance comparisons."
   ]
  },
  {
   "cell_type": "code",
   "execution_count": 19,
   "metadata": {},
   "outputs": [],
   "source": [
    "# Common imports\n",
    "import numpy as np\n",
    "import pandas as pd\n",
    "import os\n",
    " \n",
    "# TODO: add more \n",
    "\n",
    "np.random.seed(42)"
   ]
  },
  {
   "cell_type": "markdown",
   "metadata": {},
   "source": [
    "# 2. Exploratory Data Analysis (EDA) \n",
    "\n",
    "\n",
    "- Load the data \n",
    "- Take a quick look at the data structure!\n",
    "- Visualize the data to gain insights \n",
    "- Look for correlations"
   ]
  },
  {
   "cell_type": "code",
   "execution_count": null,
   "metadata": {},
   "outputs": [],
   "source": [
    "# Data\n",
    "data_path = './data/housing.csv'"
   ]
  },
  {
   "cell_type": "code",
   "execution_count": null,
   "metadata": {},
   "outputs": [],
   "source": [
    "pass"
   ]
  },
  {
   "cell_type": "markdown",
   "metadata": {},
   "source": [
    "# 3/ Prepare the data for Machine Learning algorithms\n",
    "\n",
    "- New fetures (rooms_per_household, bedrooms_per_room, population_per_household) \n",
    "- Fill no-data values or drop incomplete records\n",
    "- Harmonize numerical data - Feature Endcoding\n",
    "- Split Data set into Training and Test Sets (Try Stratified sampling - Is there a balnce?) \n"
   ]
  },
  {
   "cell_type": "code",
   "execution_count": null,
   "metadata": {},
   "outputs": [],
   "source": [
    "pass "
   ]
  },
  {
   "cell_type": "markdown",
   "metadata": {},
   "source": [
    "# 4. Select and train a model \n",
    "\n",
    "- Try linear model\n",
    "- Apply non-linear model \n",
    "- Evaluate Overfitting\n"
   ]
  },
  {
   "cell_type": "code",
   "execution_count": null,
   "metadata": {},
   "outputs": [],
   "source": [
    "pass "
   ]
  },
  {
   "cell_type": "markdown",
   "metadata": {},
   "source": [
    "# 5. Model Fine-Tuning\n",
    "\n",
    "- Fix Underfitting / Overfitting \n",
    "- Grid Search vs. Randomized Search\n",
    "- Apply Stratified K-Fold Cross-Validation\n"
   ]
  },
  {
   "cell_type": "code",
   "execution_count": null,
   "metadata": {},
   "outputs": [],
   "source": [
    "pass"
   ]
  },
  {
   "cell_type": "markdown",
   "metadata": {},
   "source": [
    "# 6. Results Interpretation\n",
    "\n",
    "- Model Performance Insights & Interpretation\n",
    "- Feature Importance & Model Explainability\n",
    "- Spatial & Temporal Analysis of Predictions - plot predictions \n",
    "- Compare with Baseline Modele\n"
   ]
  },
  {
   "cell_type": "code",
   "execution_count": null,
   "metadata": {},
   "outputs": [],
   "source": [
    "pass "
   ]
  }
 ],
 "metadata": {
  "kernelspec": {
   "display_name": "Python 3 (ipykernel)",
   "language": "python",
   "name": "python3"
  },
  "language_info": {
   "codemirror_mode": {
    "name": "ipython",
    "version": 3
   },
   "file_extension": ".py",
   "mimetype": "text/x-python",
   "name": "python",
   "nbconvert_exporter": "python",
   "pygments_lexer": "ipython3",
   "version": "3.9.10"
  },
  "nav_menu": {
   "height": "279px",
   "width": "309px"
  },
  "toc": {
   "nav_menu": {},
   "number_sections": true,
   "sideBar": true,
   "skip_h1_title": false,
   "toc_cell": false,
   "toc_position": {},
   "toc_section_display": "block",
   "toc_window_display": false
  }
 },
 "nbformat": 4,
 "nbformat_minor": 1
}
