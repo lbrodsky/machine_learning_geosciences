{
 "cells": [
  {
   "cell_type": "markdown",
   "id": "b8f6cd8c",
   "metadata": {},
   "source": [
    "# ___\n",
    "\n",
    "# [ Machine Learning in Geosciences ]\n",
    "\n",
    "### | DEMO: **LIME and SHAP explanation** \n",
    "\n",
    "\n",
    ".....................................................................................................................\n",
    "\n",
    "Author: *Lukas Brodsky* *lukas.brodsky@natur.cuni.cz* \n",
    "\n",
    "---"
   ]
  },
  {
   "cell_type": "markdown",
   "id": "b4086c81",
   "metadata": {},
   "source": [
    "# TASK: Explain Machine Learning models \n"
   ]
  },
  {
   "cell_type": "code",
   "execution_count": null,
   "id": "ded8de15",
   "metadata": {},
   "outputs": [],
   "source": [
    "import pandas as pd\n",
    "import lime\n",
    "import lime.lime_tabular\n",
    "import shap\n",
    "\n",
    "from sklearn import datasets\n",
    "from sklearn.ensemble import RandomForestClassifier\n",
    "import numpy as np\n",
    "from lime.lime_tabular import LimeTabularExplainer\n",
    "from sklearn.model_selection import train_test_split\n",
    "from sklearn.linear_model import LinearRegression"
   ]
  },
  {
   "cell_type": "code",
   "execution_count": null,
   "id": "62d42c1b",
   "metadata": {},
   "outputs": [],
   "source": [
    "# Data \n",
    "data = datasets.load_iris()"
   ]
  },
  {
   "cell_type": "markdown",
   "id": "2dd373c1",
   "metadata": {},
   "source": [
    "### Classification"
   ]
  },
  {
   "cell_type": "code",
   "execution_count": null,
   "id": "832fc5ee",
   "metadata": {},
   "outputs": [],
   "source": [
    "# Model \n",
    "classifier = RandomForestClassifier()"
   ]
  },
  {
   "cell_type": "code",
   "execution_count": null,
   "id": "0b0f52a2",
   "metadata": {},
   "outputs": [],
   "source": [
    "X = pd.DataFrame(data.data, columns=data.feature_names)\n",
    "y = data.target\n",
    "feature_names = X.columns\n",
    "class_names = data.target_names"
   ]
  },
  {
   "cell_type": "code",
   "execution_count": null,
   "id": "8e8e9cea",
   "metadata": {},
   "outputs": [],
   "source": [
    "# feature_names"
   ]
  },
  {
   "cell_type": "code",
   "execution_count": null,
   "id": "141d5f1f",
   "metadata": {},
   "outputs": [],
   "source": [
    "# Train/test split\n",
    "X_train, X_test, y_train, y_test = train_test_split(X, y, test_size=0.2, random_state=42)  "
   ]
  },
  {
   "cell_type": "code",
   "execution_count": null,
   "id": "5fffa089",
   "metadata": {
    "scrolled": true
   },
   "outputs": [],
   "source": [
    "classifier.fit(X_train, y_train)"
   ]
  },
  {
   "cell_type": "markdown",
   "id": "7e1eee4a",
   "metadata": {},
   "source": [
    "### LIME explanation"
   ]
  },
  {
   "cell_type": "code",
   "execution_count": null,
   "id": "5bd4d659",
   "metadata": {},
   "outputs": [],
   "source": [
    "# Create a LIME explainer object\n",
    "explainer = lime.lime_tabular.LimeTabularExplainer(data.data, mode='classification')"
   ]
  },
  {
   "cell_type": "code",
   "execution_count": null,
   "id": "49ffe822",
   "metadata": {},
   "outputs": [],
   "source": [
    "# Select an instance to be explained\n",
    "instance = data.data[0]"
   ]
  },
  {
   "cell_type": "code",
   "execution_count": null,
   "id": "b7af9430",
   "metadata": {},
   "outputs": [],
   "source": [
    "# Generate and explanation for the instance\n",
    "explanation = explainer.explain_instance(instance, classifier.predict_proba, num_features = 5)"
   ]
  },
  {
   "cell_type": "code",
   "execution_count": null,
   "id": "e08f08f0",
   "metadata": {
    "scrolled": true
   },
   "outputs": [],
   "source": [
    "# Display the explanation\n",
    "explanation.show_in_notebook()"
   ]
  },
  {
   "cell_type": "markdown",
   "id": "b8490edb",
   "metadata": {},
   "source": [
    "### Regression "
   ]
  },
  {
   "cell_type": "code",
   "execution_count": null,
   "id": "7c612bdc",
   "metadata": {},
   "outputs": [],
   "source": [
    "# Data \n",
    "np.random.seed(42)\n",
    "X = np.random.rand(100, 5)  # 100 samples, 5 features\n",
    "y = 2 * X[:, 0] + 3 * X[:, 1] + 1 * X[:, 2] + np.random.randn(100)"
   ]
  },
  {
   "cell_type": "code",
   "execution_count": null,
   "id": "3aeaad6b",
   "metadata": {},
   "outputs": [],
   "source": [
    "# Split the data into training and testing sets\n",
    "X_train, X_test, y_train, y_test = train_test_split(X, y, test_size=0.2, random_state=42)"
   ]
  },
  {
   "cell_type": "code",
   "execution_count": null,
   "id": "cfa1abe6",
   "metadata": {},
   "outputs": [],
   "source": [
    "# Train a simple linear regression model\n",
    "model = LinearRegression()\n",
    "model.fit(X_train, y_train)"
   ]
  },
  {
   "cell_type": "code",
   "execution_count": null,
   "id": "db8a27f9",
   "metadata": {},
   "outputs": [],
   "source": [
    "# Initialize a LimeTabularExplainer\n",
    "explainer = LimeTabularExplainer(training_data=X_train, mode=\"regression\")"
   ]
  },
  {
   "cell_type": "code",
   "execution_count": null,
   "id": "5ee9ae8c",
   "metadata": {},
   "outputs": [],
   "source": [
    "# Select a sample instance for explanation\n",
    "sample_instance = X_test[0]"
   ]
  },
  {
   "cell_type": "code",
   "execution_count": null,
   "id": "1d69203a",
   "metadata": {},
   "outputs": [],
   "source": [
    "# Explain the prediction for the sample instance\n",
    "explanation = explainer.explain_instance(sample_instance, model.predict)"
   ]
  },
  {
   "cell_type": "code",
   "execution_count": null,
   "id": "450d9658",
   "metadata": {},
   "outputs": [],
   "source": [
    "# Show the explanation\n",
    "explanation.show_in_notebook()\n",
    "# It shows the prediction base like classification."
   ]
  },
  {
   "cell_type": "code",
   "execution_count": null,
   "id": "d821c583",
   "metadata": {},
   "outputs": [],
   "source": []
  },
  {
   "cell_type": "markdown",
   "id": "ba510409",
   "metadata": {},
   "source": [
    "### SHAP Explanation"
   ]
  },
  {
   "cell_type": "code",
   "execution_count": null,
   "id": "1c34a144",
   "metadata": {},
   "outputs": [],
   "source": [
    "shap.initjs()"
   ]
  },
  {
   "cell_type": "markdown",
   "id": "792a6677",
   "metadata": {},
   "source": [
    "#### Explain a single prediction from the test set"
   ]
  },
  {
   "cell_type": "code",
   "execution_count": null,
   "id": "3893c622",
   "metadata": {},
   "outputs": [],
   "source": [
    "\n",
    "explainer = shap.KernelExplainer(classifier.predict_proba, X_train)\n",
    "shap_values = explainer.shap_values(X_test.iloc[0, :])\n",
    "shap.force_plot(explainer.expected_value[0], shap_values[:, 0], X_test.iloc[0, :])"
   ]
  },
  {
   "cell_type": "markdown",
   "id": "e7699e31",
   "metadata": {},
   "source": [
    "#### Explain all the predictions in the test set"
   ]
  },
  {
   "cell_type": "code",
   "execution_count": null,
   "id": "5a3f22c4",
   "metadata": {},
   "outputs": [],
   "source": [
    "shap_values = explainer.shap_values(X_test)\n",
    "shap.force_plot(explainer.expected_value[0], shap_values[..., 0], X_test)\n"
   ]
  }
 ],
 "metadata": {
  "kernelspec": {
   "display_name": "Python 3 (ipykernel)",
   "language": "python",
   "name": "python3"
  },
  "language_info": {
   "codemirror_mode": {
    "name": "ipython",
    "version": 3
   },
   "file_extension": ".py",
   "mimetype": "text/x-python",
   "name": "python",
   "nbconvert_exporter": "python",
   "pygments_lexer": "ipython3",
   "version": "3.9.10"
  }
 },
 "nbformat": 4,
 "nbformat_minor": 5
}
