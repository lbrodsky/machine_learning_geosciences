{
 "cells": [
  {
   "cell_type": "markdown",
   "id": "b6d5af0b",
   "metadata": {},
   "source": [
    "# ___\n",
    "\n",
    "# [ Machine Learning in Geosciences ]\n",
    "\n",
    "### | Topic: **GeoAI: Land Cover classification with Sentinel-2 and ST_LUCAS** \n",
    "\n",
    "### | Thematic focus: Land Cover\n",
    "\n",
    ".....................................................................................................................\n",
    "\n",
    "Author: *Lukas Brodsky* *lukas.brodsky@natur.cuni.cz* \n",
    "\n",
    "---"
   ]
  },
  {
   "cell_type": "markdown",
   "id": "2869f641",
   "metadata": {},
   "source": [
    "# 1. Problem definition \n",
    "\n",
    "### 1.1 Background\n",
    "\n",
    "Land cover classification is a crucial task in remote sensing and environmental monitoring, providing valuable insights for urban planning, agriculture, forestry, and climate studies. Sentinel-2, a satellite mission by the European Space Agency (ESA), offers high-resolution multispectral imagery suitable for land cover classification. The ST_LUCAS (LUCAS – Land Use/Cover Area frame Survey) dataset provides ground truth reference data, making it a valuable resource for training and validating machine learning models.\n",
    "\n",
    "By leveraging Sentinel-2 imagery and ST_LUCAS reference data, machine learning models can efficiently classify land cover types, improving accuracy and automation in large-scale environmental analysis. The integration of these datasets enables the development of robust classification models that can generalize across different landscapes.\n",
    "\n",
    "\n",
    "### 1.2. Objective: \n",
    "\n",
    "The primary objective of this task is to develop and evaluate a machine learning model for land cover classification using Sentinel-2 satellite imagery and ST_LUCAS reference data. The key goals include:\n",
    "\n",
    "* Data Preprocessing – Extract and preprocess Sentinel-2 spectral bands, align them with ST_LUCAS reference points, and apply necessary corrections.\n",
    "* Sample ST_LUCAS data based on spatial-kfold samling and apply spatial cross-validation. \n",
    "* Feature Engineering – Select relevant spectral indices (e.g., NDVI, NDWI) and additional features to enhance classification performance.\n",
    "* Model Training & Optimization – Train a machine learning model (e.g., Random Forest) using labeled data from ST_LUCAS and optimize its parameters.\n",
    "* Validation & Accuracy Assessment – Evaluate the model performance.\n",
    "* Compare model results when using random sampling and spatial sampling. \n",
    "\n",
    "### 1.3 Expected results \n",
    "\n",
    "* Land Cover Classification Map – A high-resolution map with classified land cover types, generated from Sentinel-2 data, and validated using ST_LUCAS references.\n",
    "* Performance Metrics – Random and spatial sampling classification accuracy metrics using F1-score.\n",
    "* Feature Importance Analysis – Identification of the most influential Sentinel-2 bands and spectral indices contributing to classification accuracy."
   ]
  },
  {
   "cell_type": "code",
   "execution_count": null,
   "id": "dbcfd03e",
   "metadata": {},
   "outputs": [],
   "source": [
    "import os \n",
    "import glob\n",
    "import rasterio\n",
    "import rasterio.features\n",
    "from rasterio.enums import MergeAlg\n",
    "from rasterio.plot import show\n",
    "from rasterio.features import rasterize\n",
    "from skimage import exposure\n",
    "from sklearn.ensemble import RandomForestClassifier\n",
    "from sklearn.model_selection import GridSearchCV\n",
    "\n",
    "from sklearn.model_selection import train_test_split\n",
    "from sklearn.metrics import accuracy_score\n",
    "from sklearn.metrics import f1_score\n",
    "import numpy as np\n",
    "from shapely.geometry import box\n",
    "import geopandas as gpd \n",
    "# from st_lucas import LucasRequest\n",
    "# from st_lucas import LucasIO\n",
    "\n",
    "# Random Cross-Validation using KFold\n",
    "from sklearn.model_selection import KFold\n",
    "# Stratified Cross-Validation using StratifiedKFold\n",
    "from sklearn.model_selection import StratifiedKFold\n",
    "\n",
    "import matplotlib.pyplot as plt \n",
    "import matplotlib.patches as mpatches\n",
    "import matplotlib as mpl\n",
    "\n",
    "from spatialkfold.blocks import spatial_blocks \n",
    "from spatialkfold.datasets import load_ames\n",
    "from spatialkfold.clusters import spatial_kfold_clusters \n",
    "from spatialkfold.plotting import spatial_kfold_plot\n",
    "from spatialkfold.stats import spatial_kfold_stats"
   ]
  },
  {
   "cell_type": "markdown",
   "id": "9ec39c46",
   "metadata": {},
   "source": [
    "# 2. Data Collection & Preparation\n",
    "EPSG: 32633 "
   ]
  },
  {
   "cell_type": "code",
   "execution_count": null,
   "id": "2f95df3f",
   "metadata": {},
   "outputs": [],
   "source": [
    "# Google Drive to download data: \n",
    "# https://drive.google.com/drive/folders/1OraTxkjJy597P-vWyFZWVIwDvJ0iX_-u?usp=sharing "
   ]
  },
  {
   "cell_type": "code",
   "execution_count": null,
   "id": "a6fc116f",
   "metadata": {},
   "outputs": [],
   "source": [
    "# CONFIG\n",
    "DIR_PATH = './data'\n",
    "S2_BANDS_DIR = os.path.join(DIR_PATH, 'S2A_MSIL2A_20180506T100031_N0207_R122_T33UVQ_20180506T105839.SAFE/GRANULE/*/IMG_DATA/R10m') \n",
    "LUCAS_SHP = os.path.join(DIR_PATH, 'cz_lucas_region_grow.shp') \n",
    "OUTPUT_TIF = os.path.join(DIR_PATH, 'land_cover_cz_33UVQ_2018.tif') \n",
    "LABEL_FIELD = 'lc' \n",
    "EPSG_CODE = 32633\n",
    "N_SPLITS = 5\n",
    "SCALE_FACTOR = 10000"
   ]
  },
  {
   "cell_type": "code",
   "execution_count": null,
   "id": "f60c93eb",
   "metadata": {},
   "outputs": [],
   "source": [
    "# Load LUCAS polygons\n",
    "lucas_gdf = gpd.read_file(LUCAS_SHP)\n",
    "lucas_gdf = lucas_gdf.to_crs(epsg=EPSG_CODE)\n",
    "print(\"Number of polygons:\", len(lucas_gdf))\n",
    "print(\"Columns:\", lucas_gdf.columns)"
   ]
  },
  {
   "cell_type": "code",
   "execution_count": null,
   "id": "33821d20",
   "metadata": {},
   "outputs": [],
   "source": [
    "# Load Sentinel-2 bands\n",
    "band_paths = {\n",
    "    'B02': glob.glob(os.path.join(S2_BANDS_DIR, '*B02_10m.jp2'))[0],\n",
    "    'B03': glob.glob(os.path.join(S2_BANDS_DIR, '*B03_10m.jp2'))[0],\n",
    "    'B04': glob.glob(os.path.join(S2_BANDS_DIR, '*B04_10m.jp2'))[0],\n",
    "    'B08': glob.glob(os.path.join(S2_BANDS_DIR, '*B08_10m.jp2'))[0]\n",
    "}"
   ]
  },
  {
   "cell_type": "code",
   "execution_count": null,
   "id": "d4b5cc77",
   "metadata": {},
   "outputs": [],
   "source": [
    "# Read each band and stack them\n",
    "band_arrays = []\n",
    "for name, path in band_paths.items():\n",
    "    with rasterio.open(path) as src:\n",
    "        band = src.read(1)  # Read the first band (single layer)\n",
    "        band_arrays.append(band)"
   ]
  },
  {
   "cell_type": "code",
   "execution_count": null,
   "id": "fc4ec990",
   "metadata": {},
   "outputs": [],
   "source": [
    "# Stack the bands into a 3D array: (height, width, num_bands)\n",
    "stacked_img = np.stack(band_arrays, axis=-1)\n",
    "print(\"stacked shape:\", stacked_img.shape)  # Should be (height, width, num_bands)"
   ]
  },
  {
   "cell_type": "markdown",
   "id": "8733eb2c",
   "metadata": {},
   "source": [
    "### Feature engineering "
   ]
  },
  {
   "cell_type": "code",
   "execution_count": null,
   "id": "6efde186",
   "metadata": {},
   "outputs": [],
   "source": [
    "# Extract individual bands for index computation\n",
    "B03, B04, B08 = band_arrays[1], band_arrays[2], band_arrays[3]"
   ]
  },
  {
   "cell_type": "code",
   "execution_count": null,
   "id": "2257b8cc",
   "metadata": {},
   "outputs": [],
   "source": [
    "# NDVI = (NIR - Red) / (NIR + Red)\n",
    "ndvi = (B08 - B04) / (B08 + B04 + 1e-6) * SCALE_FACTOR"
   ]
  },
  {
   "cell_type": "code",
   "execution_count": null,
   "id": "5a7b224b",
   "metadata": {},
   "outputs": [],
   "source": [
    "# NDWI = (Green - NIR) / (Green + NIR)\n",
    "ndwi = (B03 - B08) / (B03 + B08 + 1e-6) * SCALE_FACTOR"
   ]
  },
  {
   "cell_type": "code",
   "execution_count": null,
   "id": "8dd21dfd",
   "metadata": {},
   "outputs": [],
   "source": [
    "# Add indices to the stack\n",
    "stacked_img = np.concatenate([stacked_img, ndvi[..., np.newaxis], ndwi[..., np.newaxis]], axis=-1)"
   ]
  },
  {
   "cell_type": "markdown",
   "id": "3b3f6853",
   "metadata": {},
   "source": [
    "### Data harmonization"
   ]
  },
  {
   "cell_type": "code",
   "execution_count": null,
   "id": "7ef676cb",
   "metadata": {},
   "outputs": [],
   "source": [
    "# Get raster bounds and load raster base layer for visualization\n",
    "with rasterio.open(band_paths['B02']) as src:\n",
    "    raster_bounds = src.bounds\n",
    "    raster_image = src.read(1)\n",
    "    raster_shape = src.shape\n",
    "    raster_transform = src.transform\n",
    "    extent = [raster_bounds.left, raster_bounds.right, raster_bounds.bottom, raster_bounds.top]"
   ]
  },
  {
   "cell_type": "code",
   "execution_count": null,
   "id": "9dcae035",
   "metadata": {},
   "outputs": [],
   "source": [
    "# Convert bounds to shapely box for filtering\n",
    "raster_bbox = box(*raster_bounds)"
   ]
  },
  {
   "cell_type": "code",
   "execution_count": null,
   "id": "60bd7135",
   "metadata": {},
   "outputs": [],
   "source": [
    "# Filter only LUCAS polygons intersecting the raster\n",
    "lucas_subset = lucas_gdf[lucas_gdf.intersects(raster_bbox)]"
   ]
  },
  {
   "cell_type": "code",
   "execution_count": null,
   "id": "1bc5d045",
   "metadata": {},
   "outputs": [],
   "source": []
  },
  {
   "cell_type": "code",
   "execution_count": null,
   "id": "0eba4176",
   "metadata": {},
   "outputs": [],
   "source": [
    "# Check unique values to confirm it's correct\n",
    "print(\"LUCAS land cover classes:\", lucas_gdf[LABEL_FIELD].unique())"
   ]
  },
  {
   "cell_type": "code",
   "execution_count": null,
   "id": "de1e5b6a",
   "metadata": {},
   "outputs": [],
   "source": [
    "# Prepare shapes for rasterization\n",
    "shapes = ((geom, int(val)) for geom, val in zip(lucas_gdf.geometry, lucas_gdf[LABEL_FIELD]))\n",
    "# Rasterize with original raster shape and transform\n",
    "rasterized = rasterize(\n",
    "    shapes=shapes,\n",
    "    out_shape=raster_shape,\n",
    "    transform=raster_transform,\n",
    "    fill=0,  # 0 = NoData\n",
    "    dtype='uint8'\n",
    ")"
   ]
  },
  {
   "cell_type": "code",
   "execution_count": null,
   "id": "76a955a6",
   "metadata": {},
   "outputs": [],
   "source": [
    "# Flatten stacked_img to (num_pixels, num_features)\n",
    "\n",
    "valid_mask = (rasterized > 0) # & (group_raster > 0)\n",
    "\n",
    "stacked_flat = stacked_img.reshape(-1, stacked_img.shape[-1])\n",
    "valid_mask_flat = valid_mask.flatten()\n",
    "rasterized_flat = rasterized.flatten()"
   ]
  },
  {
   "cell_type": "code",
   "execution_count": null,
   "id": "b2f0a79b",
   "metadata": {},
   "outputs": [],
   "source": [
    "# ML-ready arrays\n",
    "print(\"stacked shape:\", stacked_img.shape)\n",
    "print(\"stacked_flat shape:\", stacked_flat.shape)\n",
    "print(\"valid_mask_flat shape:\", valid_mask_flat.shape)"
   ]
  },
  {
   "cell_type": "code",
   "execution_count": null,
   "id": "838069a6",
   "metadata": {},
   "outputs": [],
   "source": [
    "X = stacked_flat[valid_mask_flat]  # Features based on valid mask\n",
    "y = rasterized_flat[valid_mask_flat]  # Corresponding labels"
   ]
  },
  {
   "cell_type": "code",
   "execution_count": null,
   "id": "9993aa13",
   "metadata": {},
   "outputs": [],
   "source": []
  },
  {
   "cell_type": "markdown",
   "id": "a953b12c",
   "metadata": {},
   "source": [
    "# 3. Exploratory Data Analysis (EDA)\n"
   ]
  },
  {
   "cell_type": "code",
   "execution_count": null,
   "id": "e2f99e91",
   "metadata": {
    "scrolled": true
   },
   "outputs": [],
   "source": [
    "# View image and samples\n",
    "fig, ax = plt.subplots(figsize=(10, 10))\n",
    "img = ax.imshow(raster_image, cmap='gray', vmin=100, vmax=1000, extent=extent, origin='upper')\n",
    "lucas_subset.boundary.plot(ax=ax, edgecolor='red', linewidth=1)\n",
    "ax.set_title('Sentinel-2 Tile with LUCAS Polygon Overlap')\n",
    "ax.set_xlabel('Easting')\n",
    "ax.set_ylabel('Northing')\n",
    "plt.grid(True)\n",
    "plt.show()"
   ]
  },
  {
   "cell_type": "code",
   "execution_count": null,
   "id": "2dc98aba",
   "metadata": {},
   "outputs": [],
   "source": []
  },
  {
   "cell_type": "code",
   "execution_count": null,
   "id": "dc769a1f",
   "metadata": {},
   "outputs": [],
   "source": [
    "# Nomenclature coding \n",
    "nomenclature ={\n",
    "        1: \"artificial land \",\n",
    "        2: \"agriculture\",\n",
    "        3: \"woodland\",\n",
    "        4: \"shrubland\",\n",
    "        5: \"grassland\",\n",
    "        6: \"bareland\", \n",
    "        7: \"water\", \n",
    "        8: \"wetlands\"\n",
    "}"
   ]
  },
  {
   "cell_type": "code",
   "execution_count": null,
   "id": "b81e78aa",
   "metadata": {},
   "outputs": [],
   "source": [
    "colours = {\n",
    "    1: (255./255,   0./255,   0./255, 0.5),   # red \n",
    "    2: (255./255, 255./255,   0./255, 0.5),   # yeallow\n",
    "    3: ( 51./255, 160./255,  44./255, 1  ),   # dark green\n",
    "    4: (223./255, 223./255, 138./255, 1  ),   # light greyish green\n",
    "    5: (  0./255, 223./255,   0./255, 0.5),   # green\n",
    "    6: (211./255, 211./255, 211./255, 1  ),   # grey\n",
    "    7: (  0./255,   0./255, 255./255, 0.5),   # blue\n",
    "    8: (238./255, 130./255, 238./255, 0.5)    # violet\n",
    "}\n"
   ]
  },
  {
   "cell_type": "code",
   "execution_count": null,
   "id": "6e47aed0",
   "metadata": {
    "scrolled": false
   },
   "outputs": [],
   "source": [
    "# Feature scatter plot\n",
    "# plt.scatter(s2array_flat[2, :], s2array_flat[4, :], s=1, alpha=0.7, \n",
    "#             c=lucas_array_flat, cmap=cmap)\n",
    "# plt.xlabel('RED')\n",
    "# plt.ylabel('NIR')\n",
    "# plt.colorbar()"
   ]
  },
  {
   "cell_type": "markdown",
   "id": "d9b08904",
   "metadata": {},
   "source": [
    "# 4. Model Selection & Training"
   ]
  },
  {
   "cell_type": "markdown",
   "id": "36b6e7ac",
   "metadata": {},
   "source": [
    "# 5. Model fine-tuning \n",
    "* hyperparameters fine-tuning \n",
    "* random and spatial sampling comparison  \n",
    "* models evaluation"
   ]
  },
  {
   "cell_type": "markdown",
   "id": "d6ed9591",
   "metadata": {},
   "source": [
    "### Random sampling\n"
   ]
  },
  {
   "cell_type": "code",
   "execution_count": null,
   "id": "833b267a",
   "metadata": {},
   "outputs": [],
   "source": [
    "### Training and validation\n",
    "def evaluate_model(clf, X_train, y_train, X_test, y_test):\n",
    "    y_train_pred = clf.predict(X_train)\n",
    "    y_test_pred = clf.predict(X_test)\n",
    "    f1_train = f1_score(y_train, y_train_pred, average='weighted')\n",
    "    f1_test = f1_score(y_test, y_test_pred, average='weighted')\n",
    "    return f1_train, f1_test"
   ]
  },
  {
   "cell_type": "code",
   "execution_count": null,
   "id": "af68151f",
   "metadata": {},
   "outputs": [],
   "source": [
    "# Setup for random sampling\n",
    "scores_random = []\n",
    "kf_random = KFold(n_splits=N_SPLITS, shuffle=True, random_state=42)\n"
   ]
  },
  {
   "cell_type": "code",
   "execution_count": null,
   "id": "9e8e3670",
   "metadata": {},
   "outputs": [],
   "source": [
    "# Train the model using RandomForestClassifier and perform cross-validation\n",
    "param_grid = {\n",
    "    'n_estimators': [100, 200],\n",
    "    'max_depth': [10, 20, 30, 50, 100]\n",
    "}"
   ]
  },
  {
   "cell_type": "code",
   "execution_count": null,
   "id": "9c704d4f",
   "metadata": {},
   "outputs": [],
   "source": [
    "# training \n",
    "for train_idx, test_idx in kf_random.split(X, y):\n",
    "    # break\n",
    "    X_train, y_train = X[train_idx], y[train_idx]\n",
    "    X_test, y_test = X[test_idx], y[test_idx]\n",
    "    \n",
    "    # Grid search with 3-fold CV\n",
    "    rf_base = RandomForestClassifier(n_jobs=8, random_state=42)\n",
    "    grid_search = GridSearchCV(rf_base, param_grid, cv=3, scoring='f1_weighted', n_jobs=os.cpu_count()-2, verbose=1)\n",
    "    grid_search.fit(X_train, y_train)\n",
    "\n",
    "    # Best model\n",
    "    clf = grid_search.best_estimator_\n",
    "    print(\"Best Parameters:\", grid_search.best_params_)\n",
    "    f1_train, f1_test = evaluate_model(clf, X[train_idx], y[train_idx], X[test_idx], y[test_idx])\n",
    "    scores_random.append((f1_train, f1_test))\n"
   ]
  },
  {
   "cell_type": "code",
   "execution_count": null,
   "id": "d82f3dfb",
   "metadata": {},
   "outputs": [],
   "source": [
    "# Output Random CV Results\n",
    "print(f\"Random Cross-Validation F1-scores: {scores_random}\")\n"
   ]
  },
  {
   "cell_type": "markdown",
   "id": "2b294b90",
   "metadata": {},
   "source": [
    "### Spatial cross-validatin "
   ]
  },
  {
   "cell_type": "code",
   "execution_count": null,
   "id": "fb740fa2",
   "metadata": {},
   "outputs": [],
   "source": [
    "# Create blocks using centroid-based selection\n",
    "blocks = spatial_blocks(gdf=lucas_subset, width=10000, height=10000, \n",
    "                        method='random', nfolds=N_SPLITS, \n",
    "                        random_state=42)"
   ]
  },
  {
   "cell_type": "code",
   "execution_count": null,
   "id": "cbff58d6",
   "metadata": {},
   "outputs": [],
   "source": [
    "# Function to rasterize blocks for a given fold\n",
    "def rasterize_fold(selected_blocks, fold_value, raster_shape, raster_transform):\n",
    "    \n",
    "    # replace to union_all()\n",
    "    selected_geom = selected_blocks.unary_union\n",
    "    selected_lucas = lucas_subset[lucas_subset.intersects(selected_geom)]\n",
    "    \n",
    "    # Prepare shapes for rasterization\n",
    "    shapes = ((geom, int(val)) for geom, val in zip(selected_lucas.geometry, selected_lucas[LABEL_FIELD]))\n",
    "    \n",
    "    rasterized_fold = rasterize(\n",
    "        shapes=shapes,\n",
    "        out_shape=raster_shape,\n",
    "        transform=raster_transform,\n",
    "        fill=0,  # 0 = NoData\n",
    "        dtype='uint8'\n",
    "    )\n",
    "    return rasterized_fold"
   ]
  },
  {
   "cell_type": "code",
   "execution_count": null,
   "id": "cdbf75af",
   "metadata": {},
   "outputs": [],
   "source": [
    "def spatial_cross_validation(blocks, raster_shape, raster_transform, n_splits):\n",
    "    scores = []\n",
    "    for fold_value in range(1, n_splits + 1):\n",
    "        print(f\"Processing fold {fold_value}...\")\n",
    "        train_blocks = blocks[blocks['folds'] != fold_value]\n",
    "        test_blocks = blocks[blocks['folds'] == fold_value]\n",
    "        train_raster = rasterize_fold(train_blocks, fold_value, raster_shape, raster_transform)\n",
    "        test_raster = rasterize_fold(test_blocks, fold_value, raster_shape, raster_transform)\n",
    "        # Best model\n",
    "        clf = grid_search.best_estimator_\n",
    "        print(\"Best Parameters:\", grid_search.best_params_)\n",
    "        f1_train, f1_test = evaluate_model(clf, X_train, y_train, X_test, y_test)\n",
    "        scores.append((f1_train, f1_test))\n",
    "\n",
    "    return scores"
   ]
  },
  {
   "cell_type": "code",
   "execution_count": null,
   "id": "e8ae7172",
   "metadata": {},
   "outputs": [],
   "source": [
    "# Run spatial cross-validation\n",
    "scores_spatial = spatial_cross_validation(blocks, raster_shape, raster_transform, N_SPLITS)\n"
   ]
  },
  {
   "cell_type": "code",
   "execution_count": null,
   "id": "08f5e2cc",
   "metadata": {},
   "outputs": [],
   "source": [
    "# Output results\n",
    "print(f\"Spatial Cross-Validation F1-scores: {scores_spatial}\")"
   ]
  },
  {
   "cell_type": "code",
   "execution_count": null,
   "id": "8940a8ba",
   "metadata": {},
   "outputs": [],
   "source": [
    "# Combine scores and calculate means\n",
    "cv_results = {\n",
    "    'Random': scores_random,\n",
    "    'Spatial': scores_spatial, \n",
    "}   "
   ]
  },
  {
   "cell_type": "code",
   "execution_count": null,
   "id": "4fe2b648",
   "metadata": {},
   "outputs": [],
   "source": [
    "# Print average scores \n",
    "for method, scores in cv_results.items():\n",
    "    train_avg = np.mean([s[0] for s in scores])\n",
    "    test_avg = np.mean([s[1] for s in scores])\n",
    "    print(f\"{method} CV → Avg Train F1: {train_avg:.3f}, Avg Test F1: {test_avg:.3f}\")\n"
   ]
  },
  {
   "cell_type": "code",
   "execution_count": null,
   "id": "7afc794f",
   "metadata": {},
   "outputs": [],
   "source": [
    "# cv_results"
   ]
  },
  {
   "cell_type": "markdown",
   "id": "1bd5ece6",
   "metadata": {},
   "source": [
    "# 6. Results presentation and interpretation "
   ]
  },
  {
   "cell_type": "code",
   "execution_count": null,
   "id": "f56610c0",
   "metadata": {},
   "outputs": [],
   "source": [
    "### Explanations\n",
    "import shap"
   ]
  },
  {
   "cell_type": "code",
   "execution_count": null,
   "id": "e8645cdd",
   "metadata": {},
   "outputs": [],
   "source": [
    "# xAI: apply SHAP for model interpretation\n",
    "explainer_shap = shap.TreeExplainer(clf)   "
   ]
  },
  {
   "cell_type": "code",
   "execution_count": null,
   "id": "555f014f",
   "metadata": {},
   "outputs": [],
   "source": [
    "shap_values = explainer_shap.shap_values(X_test[:100])"
   ]
  },
  {
   "cell_type": "code",
   "execution_count": null,
   "id": "e706ad82",
   "metadata": {},
   "outputs": [],
   "source": [
    "# plot \n",
    "shap.initjs()\n",
    "shap.force_plot(explainer_shap.expected_value[0], shap_values[..., 0], X_test)"
   ]
  },
  {
   "cell_type": "code",
   "execution_count": null,
   "id": "cf139ff1",
   "metadata": {},
   "outputs": [],
   "source": []
  },
  {
   "cell_type": "code",
   "execution_count": null,
   "id": "57e386a5",
   "metadata": {},
   "outputs": [],
   "source": [
    "### Predictions "
   ]
  },
  {
   "cell_type": "code",
   "execution_count": null,
   "id": "b092558f",
   "metadata": {
    "scrolled": true
   },
   "outputs": [],
   "source": [
    "# Predict the entire image using the final model\n",
    "predictions = clf.predict(stacked_flat)"
   ]
  },
  {
   "cell_type": "code",
   "execution_count": null,
   "id": "2ab0cbd2",
   "metadata": {},
   "outputs": [],
   "source": [
    "# Save the result to a GeoTIFF\n",
    "with rasterio.open(band_paths['B02']) as src:\n",
    "    profile = src.profile\n",
    "    profile.update(dtype=rasterio.uint8, count=1, compress='lzw')\n",
    "\n",
    "    with rasterio.open(OUTPUT_TIF, 'w', **profile) as dst:\n",
    "        dst.write(predictions_raster, 1)\n",
    "\n",
    "print(\"Land cover map saved as:\", OUTPUT_TIF)"
   ]
  },
  {
   "cell_type": "code",
   "execution_count": null,
   "id": "b2c90b7f",
   "metadata": {},
   "outputs": [],
   "source": [
    "# Plot\n",
    "plt.figure(figsize=(10, 10))\n",
    "im = plt.imshow(predictions_raster, cmap=colormap, interpolation='none')\n",
    "cbar = plt.colorbar(im, ticks=unique_labels)\n",
    "cbar.set_label('Land Cover Class')\n",
    "plt.title('Land Cover Classification Map')\n",
    "plt.xlabel('Easting')\n",
    "plt.ylabel('Northing')\n",
    "plt.grid(True)\n",
    "plt.show()"
   ]
  },
  {
   "cell_type": "code",
   "execution_count": null,
   "id": "2fe1c902",
   "metadata": {},
   "outputs": [],
   "source": [
    "# Resutls interpretation"
   ]
  }
 ],
 "metadata": {
  "kernelspec": {
   "display_name": "Python 3 (ipykernel)",
   "language": "python",
   "name": "python3"
  },
  "language_info": {
   "codemirror_mode": {
    "name": "ipython",
    "version": 3
   },
   "file_extension": ".py",
   "mimetype": "text/x-python",
   "name": "python",
   "nbconvert_exporter": "python",
   "pygments_lexer": "ipython3",
   "version": "3.9.10"
  }
 },
 "nbformat": 4,
 "nbformat_minor": 5
}
